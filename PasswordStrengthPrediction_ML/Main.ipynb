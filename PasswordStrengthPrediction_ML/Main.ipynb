{
 "cells": [
  {
   "cell_type": "code",
   "execution_count": 1,
   "id": "07b3b7bc",
   "metadata": {},
   "outputs": [],
   "source": [
    "import pandas as pd\n",
    "import numpy as np\n",
    "import seaborn as sns\n",
    "from sklearn.feature_extraction.text import TfidfVectorizer\n",
    "from sklearn.model_selection import train_test_split, RandomizedSearchCV\n",
    "from sklearn.linear_model import LogisticRegression\n",
    "from sklearn import metrics\n",
    "import xgboost as xgb\n",
    "import pickle\n",
    "from sklearn.preprocessing import StandardScaler\n",
    "from sklearn.ensemble import RandomForestClassifier"
   ]
  },
  {
   "cell_type": "code",
   "execution_count": 2,
   "id": "51a883fb",
   "metadata": {},
   "outputs": [
    {
     "name": "stderr",
     "output_type": "stream",
     "text": [
      "C:\\Users\\USER\\AppData\\Local\\Temp\\ipykernel_2560\\1246055082.py:1: FutureWarning: The error_bad_lines argument has been deprecated and will be removed in a future version. Use on_bad_lines in the future.\n",
      "\n",
      "\n",
      "  data = pd.read_csv('data/data.csv', error_bad_lines=False)\n",
      "Skipping line 2810: expected 2 fields, saw 5\n",
      "Skipping line 4641: expected 2 fields, saw 5\n",
      "Skipping line 7171: expected 2 fields, saw 5\n",
      "Skipping line 11220: expected 2 fields, saw 5\n",
      "Skipping line 13809: expected 2 fields, saw 5\n",
      "Skipping line 14132: expected 2 fields, saw 5\n",
      "Skipping line 14293: expected 2 fields, saw 5\n",
      "Skipping line 14865: expected 2 fields, saw 5\n",
      "Skipping line 17419: expected 2 fields, saw 5\n",
      "Skipping line 22801: expected 2 fields, saw 5\n",
      "Skipping line 25001: expected 2 fields, saw 5\n",
      "Skipping line 26603: expected 2 fields, saw 5\n",
      "Skipping line 26742: expected 2 fields, saw 5\n",
      "Skipping line 29702: expected 2 fields, saw 5\n",
      "Skipping line 32767: expected 2 fields, saw 5\n",
      "Skipping line 32878: expected 2 fields, saw 5\n",
      "Skipping line 35643: expected 2 fields, saw 5\n",
      "Skipping line 36550: expected 2 fields, saw 5\n",
      "Skipping line 38732: expected 2 fields, saw 5\n",
      "Skipping line 40567: expected 2 fields, saw 5\n",
      "Skipping line 40576: expected 2 fields, saw 5\n",
      "Skipping line 41864: expected 2 fields, saw 5\n",
      "Skipping line 46861: expected 2 fields, saw 5\n",
      "Skipping line 47939: expected 2 fields, saw 5\n",
      "Skipping line 48628: expected 2 fields, saw 5\n",
      "Skipping line 48908: expected 2 fields, saw 5\n",
      "Skipping line 57582: expected 2 fields, saw 5\n",
      "Skipping line 58782: expected 2 fields, saw 5\n",
      "Skipping line 58984: expected 2 fields, saw 5\n",
      "Skipping line 61518: expected 2 fields, saw 5\n",
      "Skipping line 63451: expected 2 fields, saw 5\n",
      "Skipping line 68141: expected 2 fields, saw 5\n",
      "Skipping line 72083: expected 2 fields, saw 5\n",
      "Skipping line 74027: expected 2 fields, saw 5\n",
      "Skipping line 77811: expected 2 fields, saw 5\n",
      "Skipping line 83958: expected 2 fields, saw 5\n",
      "Skipping line 85295: expected 2 fields, saw 5\n",
      "Skipping line 88665: expected 2 fields, saw 5\n",
      "Skipping line 89198: expected 2 fields, saw 5\n",
      "Skipping line 92499: expected 2 fields, saw 5\n",
      "Skipping line 92751: expected 2 fields, saw 5\n",
      "Skipping line 93689: expected 2 fields, saw 5\n",
      "Skipping line 94776: expected 2 fields, saw 5\n",
      "Skipping line 97334: expected 2 fields, saw 5\n",
      "Skipping line 102316: expected 2 fields, saw 5\n",
      "Skipping line 103421: expected 2 fields, saw 5\n",
      "Skipping line 106872: expected 2 fields, saw 5\n",
      "Skipping line 109363: expected 2 fields, saw 5\n",
      "Skipping line 110117: expected 2 fields, saw 5\n",
      "Skipping line 110465: expected 2 fields, saw 5\n",
      "Skipping line 113843: expected 2 fields, saw 5\n",
      "Skipping line 115634: expected 2 fields, saw 5\n",
      "Skipping line 121518: expected 2 fields, saw 5\n",
      "Skipping line 123692: expected 2 fields, saw 5\n",
      "Skipping line 124708: expected 2 fields, saw 5\n",
      "Skipping line 129608: expected 2 fields, saw 5\n",
      "Skipping line 133176: expected 2 fields, saw 5\n",
      "Skipping line 135532: expected 2 fields, saw 5\n",
      "Skipping line 138042: expected 2 fields, saw 5\n",
      "Skipping line 139485: expected 2 fields, saw 5\n",
      "Skipping line 140401: expected 2 fields, saw 5\n",
      "Skipping line 144093: expected 2 fields, saw 5\n",
      "Skipping line 149850: expected 2 fields, saw 5\n",
      "Skipping line 151831: expected 2 fields, saw 5\n",
      "Skipping line 158014: expected 2 fields, saw 5\n",
      "Skipping line 162047: expected 2 fields, saw 5\n",
      "Skipping line 164515: expected 2 fields, saw 5\n",
      "Skipping line 170313: expected 2 fields, saw 5\n",
      "Skipping line 171325: expected 2 fields, saw 5\n",
      "Skipping line 171424: expected 2 fields, saw 5\n",
      "Skipping line 175920: expected 2 fields, saw 5\n",
      "Skipping line 176210: expected 2 fields, saw 5\n",
      "Skipping line 183603: expected 2 fields, saw 5\n",
      "Skipping line 190264: expected 2 fields, saw 5\n",
      "Skipping line 191683: expected 2 fields, saw 5\n",
      "Skipping line 191988: expected 2 fields, saw 5\n",
      "Skipping line 195450: expected 2 fields, saw 5\n",
      "Skipping line 195754: expected 2 fields, saw 5\n",
      "Skipping line 197124: expected 2 fields, saw 5\n",
      "Skipping line 199263: expected 2 fields, saw 5\n",
      "Skipping line 202603: expected 2 fields, saw 5\n",
      "Skipping line 209960: expected 2 fields, saw 5\n",
      "Skipping line 213218: expected 2 fields, saw 5\n",
      "Skipping line 217060: expected 2 fields, saw 5\n",
      "Skipping line 220121: expected 2 fields, saw 5\n",
      "Skipping line 223518: expected 2 fields, saw 5\n",
      "Skipping line 226293: expected 2 fields, saw 5\n",
      "Skipping line 227035: expected 2 fields, saw 7\n",
      "Skipping line 227341: expected 2 fields, saw 5\n",
      "Skipping line 227808: expected 2 fields, saw 5\n",
      "Skipping line 228516: expected 2 fields, saw 5\n",
      "Skipping line 228733: expected 2 fields, saw 5\n",
      "Skipping line 232043: expected 2 fields, saw 5\n",
      "Skipping line 232426: expected 2 fields, saw 5\n",
      "Skipping line 234490: expected 2 fields, saw 5\n",
      "Skipping line 239626: expected 2 fields, saw 5\n",
      "Skipping line 240461: expected 2 fields, saw 5\n",
      "Skipping line 244518: expected 2 fields, saw 5\n",
      "Skipping line 245395: expected 2 fields, saw 5\n",
      "Skipping line 246168: expected 2 fields, saw 5\n",
      "Skipping line 246655: expected 2 fields, saw 5\n",
      "Skipping line 246752: expected 2 fields, saw 5\n",
      "Skipping line 247189: expected 2 fields, saw 5\n",
      "Skipping line 250276: expected 2 fields, saw 5\n",
      "Skipping line 255327: expected 2 fields, saw 5\n",
      "Skipping line 257094: expected 2 fields, saw 5\n",
      "\n",
      "Skipping line 264626: expected 2 fields, saw 5\n",
      "Skipping line 265028: expected 2 fields, saw 5\n",
      "Skipping line 269150: expected 2 fields, saw 5\n",
      "Skipping line 271360: expected 2 fields, saw 5\n",
      "Skipping line 273975: expected 2 fields, saw 5\n",
      "Skipping line 274742: expected 2 fields, saw 5\n",
      "Skipping line 276227: expected 2 fields, saw 5\n",
      "Skipping line 279807: expected 2 fields, saw 5\n",
      "Skipping line 283425: expected 2 fields, saw 5\n",
      "Skipping line 287468: expected 2 fields, saw 5\n",
      "Skipping line 292995: expected 2 fields, saw 5\n",
      "Skipping line 293496: expected 2 fields, saw 5\n",
      "Skipping line 293735: expected 2 fields, saw 5\n",
      "Skipping line 295060: expected 2 fields, saw 5\n",
      "Skipping line 296643: expected 2 fields, saw 5\n",
      "Skipping line 296848: expected 2 fields, saw 5\n",
      "Skipping line 308926: expected 2 fields, saw 5\n",
      "Skipping line 310360: expected 2 fields, saw 5\n",
      "Skipping line 317004: expected 2 fields, saw 5\n",
      "Skipping line 318207: expected 2 fields, saw 5\n",
      "Skipping line 331783: expected 2 fields, saw 5\n",
      "Skipping line 333864: expected 2 fields, saw 5\n",
      "Skipping line 335958: expected 2 fields, saw 5\n",
      "Skipping line 336290: expected 2 fields, saw 5\n",
      "Skipping line 343526: expected 2 fields, saw 5\n",
      "Skipping line 343857: expected 2 fields, saw 5\n",
      "Skipping line 344059: expected 2 fields, saw 5\n",
      "Skipping line 348691: expected 2 fields, saw 5\n",
      "Skipping line 353446: expected 2 fields, saw 5\n",
      "Skipping line 357073: expected 2 fields, saw 5\n",
      "Skipping line 359753: expected 2 fields, saw 5\n",
      "Skipping line 359974: expected 2 fields, saw 5\n",
      "Skipping line 366534: expected 2 fields, saw 5\n",
      "Skipping line 369514: expected 2 fields, saw 5\n",
      "Skipping line 377759: expected 2 fields, saw 5\n",
      "Skipping line 379327: expected 2 fields, saw 5\n",
      "Skipping line 380769: expected 2 fields, saw 5\n",
      "Skipping line 381073: expected 2 fields, saw 5\n",
      "Skipping line 381489: expected 2 fields, saw 5\n",
      "Skipping line 386304: expected 2 fields, saw 5\n",
      "Skipping line 387635: expected 2 fields, saw 5\n",
      "Skipping line 389613: expected 2 fields, saw 5\n",
      "Skipping line 392604: expected 2 fields, saw 5\n",
      "Skipping line 393184: expected 2 fields, saw 5\n",
      "Skipping line 395530: expected 2 fields, saw 5\n",
      "Skipping line 396939: expected 2 fields, saw 5\n",
      "Skipping line 397385: expected 2 fields, saw 5\n",
      "Skipping line 397509: expected 2 fields, saw 5\n",
      "Skipping line 402902: expected 2 fields, saw 5\n",
      "Skipping line 405187: expected 2 fields, saw 5\n",
      "Skipping line 408412: expected 2 fields, saw 5\n",
      "Skipping line 419423: expected 2 fields, saw 5\n",
      "Skipping line 420962: expected 2 fields, saw 5\n",
      "Skipping line 425965: expected 2 fields, saw 5\n",
      "Skipping line 427496: expected 2 fields, saw 5\n",
      "Skipping line 438881: expected 2 fields, saw 5\n",
      "Skipping line 439776: expected 2 fields, saw 5\n",
      "Skipping line 440345: expected 2 fields, saw 5\n",
      "Skipping line 445507: expected 2 fields, saw 5\n",
      "Skipping line 445548: expected 2 fields, saw 5\n",
      "Skipping line 447184: expected 2 fields, saw 5\n",
      "Skipping line 448603: expected 2 fields, saw 5\n",
      "Skipping line 451732: expected 2 fields, saw 5\n",
      "Skipping line 458249: expected 2 fields, saw 5\n",
      "Skipping line 460274: expected 2 fields, saw 5\n",
      "Skipping line 467630: expected 2 fields, saw 5\n",
      "Skipping line 473961: expected 2 fields, saw 5\n",
      "Skipping line 476281: expected 2 fields, saw 5\n",
      "Skipping line 478010: expected 2 fields, saw 5\n",
      "Skipping line 478322: expected 2 fields, saw 5\n",
      "Skipping line 479999: expected 2 fields, saw 5\n",
      "Skipping line 480898: expected 2 fields, saw 5\n",
      "Skipping line 481688: expected 2 fields, saw 5\n",
      "Skipping line 485193: expected 2 fields, saw 5\n",
      "Skipping line 485519: expected 2 fields, saw 5\n",
      "Skipping line 486000: expected 2 fields, saw 5\n",
      "Skipping line 489063: expected 2 fields, saw 5\n",
      "Skipping line 494525: expected 2 fields, saw 5\n",
      "Skipping line 495009: expected 2 fields, saw 5\n",
      "Skipping line 501954: expected 2 fields, saw 5\n",
      "Skipping line 508035: expected 2 fields, saw 5\n",
      "Skipping line 508828: expected 2 fields, saw 5\n",
      "Skipping line 509833: expected 2 fields, saw 5\n",
      "Skipping line 510410: expected 2 fields, saw 5\n",
      "Skipping line 518229: expected 2 fields, saw 5\n",
      "Skipping line 520302: expected 2 fields, saw 5\n",
      "Skipping line 520340: expected 2 fields, saw 5\n",
      "\n"
     ]
    },
    {
     "name": "stderr",
     "output_type": "stream",
     "text": [
      "Skipping line 525174: expected 2 fields, saw 5\n",
      "Skipping line 526251: expected 2 fields, saw 5\n",
      "Skipping line 529611: expected 2 fields, saw 5\n",
      "Skipping line 531398: expected 2 fields, saw 5\n",
      "Skipping line 534146: expected 2 fields, saw 5\n",
      "Skipping line 544954: expected 2 fields, saw 5\n",
      "Skipping line 553002: expected 2 fields, saw 5\n",
      "Skipping line 553883: expected 2 fields, saw 5\n",
      "Skipping line 553887: expected 2 fields, saw 5\n",
      "Skipping line 553915: expected 2 fields, saw 5\n",
      "Skipping line 554172: expected 2 fields, saw 5\n",
      "Skipping line 563534: expected 2 fields, saw 5\n",
      "Skipping line 565191: expected 2 fields, saw 5\n",
      "Skipping line 574108: expected 2 fields, saw 5\n",
      "Skipping line 574412: expected 2 fields, saw 5\n",
      "Skipping line 575985: expected 2 fields, saw 5\n",
      "Skipping line 580091: expected 2 fields, saw 5\n",
      "Skipping line 582682: expected 2 fields, saw 5\n",
      "Skipping line 585885: expected 2 fields, saw 5\n",
      "Skipping line 590171: expected 2 fields, saw 5\n",
      "Skipping line 591924: expected 2 fields, saw 5\n",
      "Skipping line 592515: expected 2 fields, saw 5\n",
      "Skipping line 593888: expected 2 fields, saw 5\n",
      "Skipping line 596245: expected 2 fields, saw 5\n",
      "Skipping line 607344: expected 2 fields, saw 5\n",
      "Skipping line 607633: expected 2 fields, saw 5\n",
      "Skipping line 610939: expected 2 fields, saw 5\n",
      "Skipping line 613638: expected 2 fields, saw 5\n",
      "Skipping line 615643: expected 2 fields, saw 5\n",
      "Skipping line 615901: expected 2 fields, saw 5\n",
      "Skipping line 617389: expected 2 fields, saw 5\n",
      "Skipping line 634641: expected 2 fields, saw 5\n",
      "Skipping line 635755: expected 2 fields, saw 5\n",
      "Skipping line 646243: expected 2 fields, saw 5\n",
      "Skipping line 647165: expected 2 fields, saw 5\n",
      "Skipping line 648610: expected 2 fields, saw 5\n",
      "Skipping line 648772: expected 2 fields, saw 5\n",
      "Skipping line 651833: expected 2 fields, saw 5\n",
      "Skipping line 653663: expected 2 fields, saw 5\n",
      "Skipping line 656233: expected 2 fields, saw 5\n",
      "Skipping line 656694: expected 2 fields, saw 5\n",
      "Skipping line 659783: expected 2 fields, saw 5\n",
      "Skipping line 660478: expected 2 fields, saw 5\n",
      "Skipping line 661133: expected 2 fields, saw 5\n",
      "Skipping line 661736: expected 2 fields, saw 5\n",
      "Skipping line 669827: expected 2 fields, saw 5\n",
      "\n"
     ]
    }
   ],
   "source": [
    "data = pd.read_csv('data/data.csv', error_bad_lines=False)\n",
    "data = data.dropna().sample(frac=1).reset_index(drop=True) # Remove null values and shuffle the data"
   ]
  },
  {
   "cell_type": "code",
   "execution_count": 3,
   "id": "265e5e07",
   "metadata": {},
   "outputs": [],
   "source": [
    "X = data['password']\n",
    "y = data['strength']"
   ]
  },
  {
   "cell_type": "code",
   "execution_count": 4,
   "id": "4d4c3c8c",
   "metadata": {},
   "outputs": [
    {
     "data": {
      "text/plain": [
       "<Axes: xlabel='strength', ylabel='count'>"
      ]
     },
     "execution_count": 4,
     "metadata": {},
     "output_type": "execute_result"
    },
    {
     "data": {
      "image/png": "[encoded data removed]",
      "text/plain": [
       "<Figure size 640x480 with 1 Axes>"
      ]
     },
     "metadata": {},
     "output_type": "display_data"
    }
   ],
   "source": [
    "sns.set_style('whitegrid')\n",
    "sns.countplot(x='strength', data=data, palette='RdBu_r')"
   ]
  },
  {
   "cell_type": "code",
   "execution_count": 5,
   "id": "4872a963",
   "metadata": {},
   "outputs": [],
   "source": [
    "def word_to_char(word):\n",
    "    return list(word)"
   ]
  },
  {
   "cell_type": "code",
   "execution_count": 6,
   "id": "0a5ac566",
   "metadata": {},
   "outputs": [
    {
     "name": "stderr",
     "output_type": "stream",
     "text": [
      "C:\\Users\\USER\\anaconda3\\lib\\site-packages\\sklearn\\feature_extraction\\text.py:528: UserWarning: The parameter 'token_pattern' will not be used since 'tokenizer' is not None'\n",
      "  warnings.warn(\n"
     ]
    }
   ],
   "source": [
    "vectorizer = TfidfVectorizer(tokenizer=word_to_char)\n",
    "X = vectorizer.fit_transform(X)"
   ]
  },
  {
   "cell_type": "code",
   "execution_count": 7,
   "id": "f2e68fba",
   "metadata": {},
   "outputs": [],
   "source": [
    "X_train, X_test, y_train, y_test = train_test_split(X, y, test_size=0.20, random_state=42)"
   ]
  },
  {
   "cell_type": "code",
   "execution_count": 8,
   "id": "903cb7ce",
   "metadata": {},
   "outputs": [],
   "source": [
    "# Scale the data\n",
    "scaler = StandardScaler(with_mean=False)\n",
    "X_train_scaled = scaler.fit_transform(X_train)\n",
    "X_test_scaled = scaler.transform(X_test)"
   ]
  },
  {
   "cell_type": "code",
   "execution_count": 9,
   "id": "f0c222fe",
   "metadata": {},
   "outputs": [
    {
     "name": "stdout",
     "output_type": "stream",
     "text": [
      "Accuracy (XGBoost): 0.9810644525416642\n"
     ]
    }
   ],
   "source": [
    "xgb_clf = xgb.XGBClassifier()\n",
    "xgb_clf.fit(X_train, y_train)\n",
    "y_pred = xgb_clf.predict(X_test)\n",
    "print('Accuracy (XGBoost):', metrics.accuracy_score(y_test, y_pred))"
   ]
  },
  {
   "cell_type": "code",
   "execution_count": 10,
   "id": "5270858f",
   "metadata": {},
   "outputs": [
    {
     "name": "stdout",
     "output_type": "stream",
     "text": [
      "Accuracy (Random Forest): 0.9558120781315333\n"
     ]
    }
   ],
   "source": [
    "rf_clf = RandomForestClassifier()\n",
    "rf_clf.fit(X_train, y_train)\n",
    "y_pred = rf_clf.predict(X_test)\n",
    "print('Accuracy (Random Forest):', metrics.accuracy_score(y_test, y_pred))"
   ]
  },
  {
   "cell_type": "code",
   "execution_count": 11,
   "id": "4ee02d76",
   "metadata": {},
   "outputs": [
    {
     "name": "stdout",
     "output_type": "stream",
     "text": [
      "Accuracy (Logistic Regression): 0.8109058598650021\n"
     ]
    }
   ],
   "source": [
    "log_clf = LogisticRegression(penalty='l2', multi_class='ovr', solver='liblinear')\n",
    "log_clf.fit(X_train, y_train)\n",
    "y_pred = log_clf.predict(X_test)\n",
    "print('Accuracy (Logistic Regression):', metrics.accuracy_score(y_test, y_pred))"
   ]
  },
  {
   "cell_type": "code",
   "execution_count": 12,
   "id": "8f3c5fb5",
   "metadata": {},
   "outputs": [],
   "source": [
    "pickle.dump(vectorizer, open(\"tfidf_password_strength.pickle\", \"wb\"))\n",
    "pickle.dump(xgb_clf, open(\"final_model.pickle\", \"wb\"))"
   ]
  },
  {
   "cell_type": "code",
   "execution_count": 13,
   "id": "45559ae3",
   "metadata": {},
   "outputs": [],
   "source": [
    "with open(\"tfidf_password_strength.pickle\", 'rb') as file:\n",
    "    saved_vectorizer = pickle.load(file) # Load the vectorizer from the pickle file\n",
    "\n",
    "with open(\"final_model.pickle\", 'rb') as file:\n",
    "    final_model = pickle.load(file) # Load the final model (XGBoost classifier) from the pickle file"
   ]
  },
  {
   "cell_type": "code",
   "execution_count": 14,
   "id": "bac20bda",
   "metadata": {},
   "outputs": [],
   "source": [
    "def test_password_strength(password, vectorizer, model):\n",
    "    X_password = np.array([password]) # Convert the password to a numpy array\n",
    "    X_predict = vectorizer.transform(X_password) # Transform the password using the loaded vectorizer\n",
    "    y_pred = model.predict(X_predict) # Predict the password strength using the loaded model\n",
    "    return y_pred"
   ]
  },
  {
   "cell_type": "code",
   "execution_count": 15,
   "id": "701631d3",
   "metadata": {},
   "outputs": [
    {
     "name": "stdout",
     "output_type": "stream",
     "text": [
      "Password: abc, Strength: [0]\n"
     ]
    }
   ],
   "source": [
    "# Print the first password and its predicted strength\n",
    "password1 = 'abc'\n",
    "strength1 = test_password_strength(password1, saved_vectorizer, final_model)\n",
    "print(f'Password: {password1}, Strength: {strength1}')"
   ]
  },
  {
   "cell_type": "code",
   "execution_count": 16,
   "id": "136ba2f8",
   "metadata": {},
   "outputs": [
    {
     "name": "stdout",
     "output_type": "stream",
     "text": [
      "Password: abc@123, Strength: [1]\n"
     ]
    }
   ],
   "source": [
    "# Print the second password and its predicted strength\n",
    "password2 = 'abc@123'\n",
    "strength2 = test_password_strength(password2, saved_vectorizer, final_model)\n",
    "print(f'Password: {password2}, Strength: {strength2}')"
   ]
  },
  {
   "cell_type": "code",
   "execution_count": 17,
   "id": "4533c8b4",
   "metadata": {},
   "outputs": [
    {
     "name": "stdout",
     "output_type": "stream",
     "text": [
      "Password: abc@123$##, Strength: [2]\n"
     ]
    }
   ],
   "source": [
    "# Print the third password and its predicted strength\n",
    "password3 = 'abc@123$##'\n",
    "strength3 = test_password_strength(password3, saved_vectorizer, final_model)\n",
    "print(f'Password: {password3}, Strength: {strength3}')"
   ]
  },
  {
   "cell_type": "code",
   "execution_count": 18,
   "id": "02ba4099",
   "metadata": {},
   "outputs": [
    {
     "name": "stdout",
     "output_type": "stream",
     "text": [
      "Password: asdfghjk, Strength: [1]\n"
     ]
    }
   ],
   "source": [
    "# Print the third password and its predicted strength\n",
    "password4 = 'asdfghjk'\n",
    "strength4 = test_password_strength(password4, saved_vectorizer, final_model)\n",
    "print(f'Password: {password4}, Strength: {strength4}')"
   ]
  },
  {
   "cell_type": "code",
   "execution_count": 21,
   "id": "e71c9923",
   "metadata": {},
   "outputs": [
    {
     "name": "stdout",
     "output_type": "stream",
     "text": [
      "Password: cbad12@77AS#, Strength: [2]\n"
     ]
    }
   ],
   "source": [
    "# Print the third password and its predicted strength\n",
    "password5 = 'cbad12@77AS#'\n",
    "strength5 = test_password_strength(password5, saved_vectorizer, final_model)\n",
    "print(f'Password: {password5}, Strength: {strength5}')"
   ]
  },
  {
   "cell_type": "code",
   "execution_count": null,
   "id": "b7af2783",
   "metadata": {},
   "outputs": [],
   "source": []
  }
 ],
 "metadata": {
  "kernelspec": {
   "display_name": "Python 3 (ipykernel)",
   "language": "python",
   "name": "python3"
  },
  "language_info": {
   "codemirror_mode": {
    "name": "ipython",
    "version": 3
   },
   "file_extension": ".py",
   "mimetype": "text/x-python",
   "name": "python",
   "nbconvert_exporter": "python",
   "pygments_lexer": "ipython3",
   "version": "3.10.9"
  }
 },
 "nbformat": 4,
 "nbformat_minor": 5
}
